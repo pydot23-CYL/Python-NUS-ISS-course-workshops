{
 "cells": [
  {
   "cell_type": "code",
   "execution_count": 14,
   "metadata": {},
   "outputs": [],
   "source": [
    "# APIs: #\n",
    "# 1. Make an API call. #\n",
    "# 2. Get the response. #\n",
    "# 3. Parse it. #\n",
    "# 4. Print the response. #\n",
    "\n",
    "import csv\n",
    "import requests\n",
    "import json\n",
    "\n",
    "API_key = \"5a810dccd6d446ec9f0cf38c7c7bec7b\"\n",
    "API_url = f\"https://newsapi.org/v2/top-headlines?country=sg&apiKey={API_key}\"\n",
    "\n",
    "resp = requests.get (API_url)\n",
    "results = resp.json ()\n",
    "\n",
    "f = open (r\"SG news titles & descriptions.csv\", mode=\"w\")\n",
    "csv_writer = csv.writer (f)\n",
    "csv_writer.writerow ([\"Title\", \"Description\"])        \n",
    "f.close ()\n",
    "          \n",
    "for _ in results [\"articles\"]:\n",
    "    i = results [\"articles\"].index (_)\n",
    "    Title = results [\"articles\"][i][\"title\"]\n",
    "    Desc = results [\"articles\"][i][\"description\"]\n",
    "    f = open (r\"SG news titles & descriptions.csv\", mode=\"a\")\n",
    "    csv_writer = csv.writer (f)\n",
    "    csv_writer.writerow ([Title, Desc])\n",
    "    f.close ()"
   ]
  }
 ],
 "metadata": {
  "kernelspec": {
   "display_name": "Python 3",
   "language": "python",
   "name": "python3"
  },
  "language_info": {
   "codemirror_mode": {
    "name": "ipython",
    "version": 3
   },
   "file_extension": ".py",
   "mimetype": "text/x-python",
   "name": "python",
   "nbconvert_exporter": "python",
   "pygments_lexer": "ipython3",
   "version": "3.7.3"
  }
 },
 "nbformat": 4,
 "nbformat_minor": 2
}
